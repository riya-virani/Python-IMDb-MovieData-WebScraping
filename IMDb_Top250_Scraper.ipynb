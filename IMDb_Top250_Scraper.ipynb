{
 "cells": [
  {
   "cell_type": "code",
   "execution_count": 12,
   "id": "995e6774",
   "metadata": {},
   "outputs": [],
   "source": [
    "import requests\n",
    "from bs4 import BeautifulSoup\n",
    "import csv \n",
    "import bs4  \n",
    "import pandas as pd \n",
    "import time  \n",
    "from urllib.parse import urljoin  \n"
   ]
  },
  {
   "cell_type": "code",
   "execution_count": 13,
   "id": "b1239476",
   "metadata": {},
   "outputs": [
    {
     "name": "stdout",
     "output_type": "stream",
     "text": [
      "Retrieving web page URL 'https://www.imdb.com/chart/top/?ref_=nv_mv_250'\n",
      "Done\n"
     ]
    }
   ],
   "source": [
    "\n",
    "# Define the URL of the IMDb top 250 movies page\n",
    "url = \"https://www.imdb.com/chart/top/?ref_=nv_mv_250\"\n",
    "\n",
    "# Import Selenium-related libraries for web automation\n",
    "from selenium import webdriver\n",
    "from selenium.webdriver.common.by import By\n",
    "from selenium.webdriver.chrome.options import Options\n",
    "\n",
    "# Import time for adding time delays\n",
    "import time\n",
    "\n",
    "# Define the timeout duration for web page loading\n",
    "TIMEOUT = 5\n",
    "\n",
    "# Create a Chrome WebDriver instance with specified options\n",
    "options = Options()\n",
    "options.add_argument(\"--start-maximized\")\n",
    "options.add_argument(\"--disable-notifications\")\n",
    "options.add_argument(\"--disable-popup-blocking\")\n",
    "options.add_argument(\"--disable-infobars\")\n",
    "options.add_argument(\"--disable-extensions\")\n",
    "options.add_experimental_option(\"prefs\", {\"profile.default_content_setting_values.notifications\": 2})\n",
    "\n",
    "# Print a message indicating the web page URL being retrieved\n",
    "print(f\"Retrieving web page URL '{url}'\")\n",
    "\n",
    "# Create a WebDriver instance using Chrome\n",
    "driver = webdriver.Chrome(options=options)\n",
    "driver.get(url)\n",
    "\n",
    "# Add a time delay to allow the page to load\n",
    "time.sleep(TIMEOUT)\n",
    "\n",
    "# Capture the HTML source code of the loaded page\n",
    "html = driver.page_source\n",
    "\n",
    "# Create a BeautifulSoup object to parse the HTML content\n",
    "soup = BeautifulSoup(html, 'html.parser')\n",
    "\n",
    "# Close the WebDriver instance\n",
    "driver.quit()\n",
    "\n",
    "# Print a message indicating the completion of the web scraping process\n",
    "print(f\"Done\")\n"
   ]
  },
  {
   "cell_type": "code",
   "execution_count": 14,
   "id": "29c36b88",
   "metadata": {},
   "outputs": [],
   "source": [
    "\n",
    "# Define a function to extract movie titles from the IMDb page\n",
    "def get_movie_titles(soup):\n",
    "    # Find 'li' tags with class attributes that contain movie information\n",
    "    li_tags_with_h3 = soup.find_all('li', {'class': 'ipc-metadata-list-summary-item sc-59b6048d-0 jemTre cli-parent'})\n",
    "\n",
    "    # Extract 'h3' tags within 'li' tags that contain movie titles\n",
    "    h3_tags_within_li = [li.find('h3') for li in li_tags_with_h3 if li.find('h3')]\n",
    "\n",
    "    # Extract movie titles from 'h3' tags\n",
    "    movie_titles = [h3.text.strip() for h3 in h3_tags_within_li]\n",
    "\n",
    "    return movie_titles\n"
   ]
  },
  {
   "cell_type": "code",
   "execution_count": 15,
   "id": "0e60be2a",
   "metadata": {},
   "outputs": [],
   "source": [
    "\n",
    "# Define a function to extract movie release years, durations, and ratings\n",
    "def get_year_duration_rating(soup):\n",
    "    # Find 'li' tags with class attributes that contain movie information\n",
    "    li_tags_with_info = soup.find_all('li', {'class': 'ipc-metadata-list-summary-item sc-59b6048d-0 jemTre cli-parent'})\n",
    "\n",
    "    # Initialize lists to store movie information\n",
    "    release_years = []\n",
    "    durations = []\n",
    "    ratings = []\n",
    "\n",
    "    # Loop through the selected 'li' tags\n",
    "    for li in li_tags_with_info:\n",
    "        # Find all 'span' tags within the 'li' tag\n",
    "        span_tags = li.find_all('span', {'class': 'sc-4dcdad14-8 cvucyi cli-title-metadata-item'})\n",
    "\n",
    "        # Initialize variables for each piece of information\n",
    "        release_year = \"Not Provided\"\n",
    "        duration = \"Not Provided\"\n",
    "        rating = \"Not Provided\"\n",
    "\n",
    "        # Extract release year information from the first 'span' tag\n",
    "        release_year = span_tags[0].text.strip()\n",
    "        \n",
    "        # Check if there are at least two 'span' tags (for Year and Duration)\n",
    "        if len(span_tags) >= 2:\n",
    "            duration = span_tags[1].text.strip()\n",
    "            \n",
    "            # Check if the third 'span' tag exists (for Rating)\n",
    "            if len(span_tags) >= 3:\n",
    "                rating = span_tags[2].text.strip()\n",
    "\n",
    "        # Append the information to their respective lists\n",
    "        release_years.append(release_year)\n",
    "        durations.append(duration)\n",
    "        ratings.append(rating)\n",
    "\n",
    "    return release_years, durations, ratings\n"
   ]
  },
  {
   "cell_type": "code",
   "execution_count": 16,
   "id": "f103c055",
   "metadata": {},
   "outputs": [],
   "source": [
    "\n",
    "# Define a function to extract IMDb ratings\n",
    "def get_movie_stars(soup):\n",
    "    # Find 'li' tags with class attributes that contain movie information\n",
    "    li_tags_with_info = soup.find_all('li', {'class': 'ipc-metadata-list-summary-item sc-59b6048d-0 jemTre cli-parent'})\n",
    "\n",
    "    # Initialize a list to store IMDb ratings\n",
    "    imdb_ratings = []\n",
    "\n",
    "    # Loop through the selected 'li' tags\n",
    "    for li in li_tags_with_info:\n",
    "        # Find the rating element with IMDb rating\n",
    "        rating_element = li.find('span', class_='ipc-rating-star ipc-rating-star--base ipc-rating-star--imdb ratingGroup--imdb-rating')\n",
    "        \n",
    "        # Extract IMDb rating from the rating element, if it exists\n",
    "        if rating_element:\n",
    "            imdb_rating = rating_element.text.split('\\xa0')[0]\n",
    "            imdb_ratings.append(imdb_rating)\n",
    "        else:\n",
    "            imdb_ratings.append(\"N/A\") \n",
    "\n",
    "    return imdb_ratings\n"
   ]
  },
  {
   "cell_type": "code",
   "execution_count": 17,
   "id": "f5ef6fbe",
   "metadata": {},
   "outputs": [],
   "source": [
    "\n",
    "# Define a function to extract movie URLs\n",
    "def get_movie_urls(soup):\n",
    "    # Find 'li' tags with class attributes that contain movie information\n",
    "    li_tags_with_info = soup.find_all('li', {'class': 'ipc-metadata-list-summary-item sc-59b6048d-0 jemTre cli-parent'})\n",
    "\n",
    "    # Initialize a list to store movie URLs\n",
    "    movie_urls = []\n",
    "\n",
    "    # Loop through the selected 'li' tags\n",
    "    for li in li_tags_with_info:\n",
    "        # Find the 'a' tag within the 'li' tag\n",
    "        a_tag = li.find('a', {'class': 'ipc-title-link-wrapper'})\n",
    "        \n",
    "        # Check if the 'a' tag exists and contains an 'href' attribute\n",
    "        if a_tag and 'href' in a_tag.attrs:\n",
    "            # Extract the relative link from the 'href' attribute\n",
    "            relative_link = a_tag['href']\n",
    "\n",
    "            # Combine the base IMDb URL with the relative link to form a complete URL\n",
    "            complete_link = urljoin(\"https://www.imdb.com\", relative_link)\n",
    "            \n",
    "            # Append the complete URL to the list\n",
    "            movie_urls.append(complete_link)\n",
    "\n",
    "    return movie_urls\n"
   ]
  },
  {
   "cell_type": "code",
   "execution_count": 18,
   "id": "47853123",
   "metadata": {},
   "outputs": [],
   "source": [
    "\n",
    "# Call functions to extract movie data\n",
    "movie_titles = get_movie_titles(soup)\n",
    "release_years, durations, ratings = get_year_duration_rating(soup)\n",
    "imdb_ratings = get_movie_stars(soup)\n",
    "movie_urls = get_movie_urls(soup)\n"
   ]
  },
  {
   "cell_type": "code",
   "execution_count": 19,
   "id": "aa3d3edd",
   "metadata": {},
   "outputs": [
    {
     "name": "stdout",
     "output_type": "stream",
     "text": [
      "CSV file \"movie_data.csv\" created successfully.\n"
     ]
    }
   ],
   "source": [
    "\n",
    "# Create a DataFrame from the lists\n",
    "df = pd.DataFrame({\n",
    "    'Movie Title': movie_titles,\n",
    "    'Movie Release Year': release_years,\n",
    "    'IMDb Rating': imdb_ratings,\n",
    "    'Movie Duration': durations,\n",
    "    'Movie Rating (MPA)': ratings,\n",
    "    'Movie URL IMDb': movie_urls\n",
    "})\n",
    "\n",
    "# Define the name of the CSV file\n",
    "csv_file = 'movie_data.csv'\n",
    "\n",
    "# Save the DataFrame to a CSV file\n",
    "df.to_csv(csv_file, index=False)\n",
    "\n",
    "# Print a message indicating the successful creation of the CSV file\n",
    "print(f'CSV file \"{csv_file}\" created successfully.')\n"
   ]
  },
  {
   "cell_type": "code",
   "execution_count": null,
   "id": "67f2998e",
   "metadata": {},
   "outputs": [],
   "source": []
  }
 ],
 "metadata": {
  "kernelspec": {
   "display_name": "Python 3 (ipykernel)",
   "language": "python",
   "name": "python3"
  },
  "language_info": {
   "codemirror_mode": {
    "name": "ipython",
    "version": 3
   },
   "file_extension": ".py",
   "mimetype": "text/x-python",
   "name": "python",
   "nbconvert_exporter": "python",
   "pygments_lexer": "ipython3",
   "version": "3.10.9"
  }
 },
 "nbformat": 4,
 "nbformat_minor": 5
}
